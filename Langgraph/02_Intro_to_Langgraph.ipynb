{
  "nbformat": 4,
  "nbformat_minor": 0,
  "metadata": {
    "colab": {
      "provenance": [],
      "authorship_tag": "ABX9TyM9RD9S2LwtCORYUelmBwhN",
      "include_colab_link": true
    },
    "kernelspec": {
      "name": "python3",
      "display_name": "Python 3"
    },
    "language_info": {
      "name": "python"
    }
  },
  "cells": [
    {
      "cell_type": "markdown",
      "metadata": {
        "id": "view-in-github",
        "colab_type": "text"
      },
      "source": [
        "<a href=\"https://colab.research.google.com/github/AdithiyaG/Langchain/blob/main/Langgraph/02_Intro_to_Langgraph.ipynb\" target=\"_parent\"><img src=\"https://colab.research.google.com/assets/colab-badge.svg\" alt=\"Open In Colab\"/></a>"
      ]
    },
    {
      "cell_type": "markdown",
      "source": [
        "\n",
        "\n",
        "> 30 April 2024\n",
        "\n",
        "\n",
        "\n"
      ],
      "metadata": {
        "id": "AaMIiR-_XI9C"
      }
    },
    {
      "cell_type": "markdown",
      "source": [
        "\n",
        "# [Intro to Langgraph](https://langchain-ai.github.io/langgraph/tutorials/introduction/)\n"
      ],
      "metadata": {
        "id": "ZvHdRH7LWw6_"
      }
    },
    {
      "cell_type": "code",
      "execution_count": 2,
      "metadata": {
        "colab": {
          "base_uri": "https://localhost:8080/"
        },
        "id": "VISh2tmiWPQN",
        "outputId": "5e2e564c-35ef-43c6-b16d-a631507e9d44"
      },
      "outputs": [
        {
          "output_type": "stream",
          "name": "stdout",
          "text": [
            "\u001b[2K     \u001b[90m━━━━━━━━━━━━━━━━━━━━━━━━━━━━━━━━━━━━━━━━\u001b[0m \u001b[32m817.7/817.7 kB\u001b[0m \u001b[31m2.3 MB/s\u001b[0m eta \u001b[36m0:00:00\u001b[0m\n",
            "\u001b[2K     \u001b[90m━━━━━━━━━━━━━━━━━━━━━━━━━━━━━━━━━━━━━━━━\u001b[0m \u001b[32m1.9/1.9 MB\u001b[0m \u001b[31m2.1 MB/s\u001b[0m eta \u001b[36m0:00:00\u001b[0m\n",
            "\u001b[2K     \u001b[90m━━━━━━━━━━━━━━━━━━━━━━━━━━━━━━━━━━━━━━━━\u001b[0m \u001b[32m311.6/311.6 kB\u001b[0m \u001b[31m2.1 MB/s\u001b[0m eta \u001b[36m0:00:00\u001b[0m\n",
            "\u001b[2K     \u001b[90m━━━━━━━━━━━━━━━━━━━━━━━━━━━━━━━━━━━━━━━━\u001b[0m \u001b[32m1.8/1.8 MB\u001b[0m \u001b[31m2.4 MB/s\u001b[0m eta \u001b[36m0:00:00\u001b[0m\n",
            "\u001b[2K     \u001b[90m━━━━━━━━━━━━━━━━━━━━━━━━━━━━━━━━━━━━━━━━\u001b[0m \u001b[32m49.4/49.4 kB\u001b[0m \u001b[31m2.0 MB/s\u001b[0m eta \u001b[36m0:00:00\u001b[0m\n",
            "\u001b[2K     \u001b[90m━━━━━━━━━━━━━━━━━━━━━━━━━━━━━━━━━━━━━━━━\u001b[0m \u001b[32m75.6/75.6 kB\u001b[0m \u001b[31m2.7 MB/s\u001b[0m eta \u001b[36m0:00:00\u001b[0m\n",
            "\u001b[2K     \u001b[90m━━━━━━━━━━━━━━━━━━━━━━━━━━━━━━━━━━━━━━━━\u001b[0m \u001b[32m77.9/77.9 kB\u001b[0m \u001b[31m1.8 MB/s\u001b[0m eta \u001b[36m0:00:00\u001b[0m\n",
            "\u001b[2K     \u001b[90m━━━━━━━━━━━━━━━━━━━━━━━━━━━━━━━━━━━━━━━━\u001b[0m \u001b[32m58.3/58.3 kB\u001b[0m \u001b[31m2.4 MB/s\u001b[0m eta \u001b[36m0:00:00\u001b[0m\n",
            "\u001b[?25h"
          ]
        }
      ],
      "source": [
        "pip install -qU langgraph langsmith langchain langchain_openai"
      ]
    },
    {
      "cell_type": "code",
      "source": [
        "import os\n",
        "from google.colab import userdata\n",
        "os.environ[\"AZURE_OPENAI_API_KEY\"]=userdata.get('OPENAI_API_KEY')\n",
        "os.environ[\"AZURE_OPENAI_ENDPOINT\"]=userdata.get('OPENAI_ENDPOINT')\n",
        "os.environ[\"OPENAI_API_VERSION\"]=\"2024-02-15-preview\"\n",
        "os.environ[\"LANGSMITH_API_KEY\"]=userdata.get('LANGSMITH_API_KEY')\n",
        "os.environ[\"LANGCHAIN_PROJECT\"] = \"Learning\"\n",
        "os.environ[\"TAVILY_API_KEY\"] = userdata.get('TAVILY_API_KEY')\n",
        "from langchain_openai import AzureChatOpenAI\n",
        "\n",
        "# Set the model as ChatOpenAI\n",
        "model = AzureChatOpenAI(temperature=0,azure_deployment=\"gpt-4-32k\")"
      ],
      "metadata": {
        "id": "8lfZa71ZXwky"
      },
      "execution_count": 56,
      "outputs": []
    },
    {
      "cell_type": "code",
      "source": [
        "os.environ[\"LANGCHAIN_TRACING_V2\"] = \"false\""
      ],
      "metadata": {
        "id": "__kxKoYxfIFx"
      },
      "execution_count": 55,
      "outputs": []
    },
    {
      "cell_type": "markdown",
      "source": [
        "## Part 1: Build a Basic Chatbot"
      ],
      "metadata": {
        "id": "Zd9y8wtaZbhT"
      }
    },
    {
      "cell_type": "markdown",
      "source": [],
      "metadata": {
        "id": "DLCOc7b0afD7"
      }
    },
    {
      "cell_type": "code",
      "source": [
        "from typing import Annotated,TypedDict\n",
        "from langgraph.graph import StateGraph\n",
        "from langgraph.graph.message import add_messages\n",
        "\n",
        "class State(TypedDict):\n",
        "  messages:Annotated[list,add_messages]\n",
        "\n"
      ],
      "metadata": {
        "id": "0rb2K9aZZP-s"
      },
      "execution_count": 39,
      "outputs": []
    },
    {
      "cell_type": "code",
      "source": [
        "graph_builder=StateGraph(State)"
      ],
      "metadata": {
        "id": "_8aNYDK4d1s8"
      },
      "execution_count": 44,
      "outputs": []
    },
    {
      "cell_type": "markdown",
      "source": [
        "The add_messages function in our State will append the llm's response messages to whatever messages are already in the state."
      ],
      "metadata": {
        "id": "9H9BE46LaeOw"
      }
    },
    {
      "cell_type": "code",
      "source": [
        "def chatbot(state:State):\n",
        "  input=state[\"messages\"]\n",
        "  response=model.invoke(input)\n",
        "  return {\"messages\":[response]}"
      ],
      "metadata": {
        "id": "LAksDr2Eaizq"
      },
      "execution_count": 41,
      "outputs": []
    },
    {
      "cell_type": "code",
      "source": [
        "graph_builder.add_node(\"chatbot\",chatbot)"
      ],
      "metadata": {
        "id": "kuaAYdwXa90e"
      },
      "execution_count": 45,
      "outputs": []
    },
    {
      "cell_type": "code",
      "source": [
        "graph_builder.set_entry_point(\"chatbot\")\n",
        "graph_builder.set_finish_point(\"chatbot\")"
      ],
      "metadata": {
        "id": "wztBinw8bWoJ"
      },
      "execution_count": 46,
      "outputs": []
    },
    {
      "cell_type": "code",
      "source": [
        "graph = graph_builder.compile()"
      ],
      "metadata": {
        "id": "k9rWp6DxbdxY"
      },
      "execution_count": 47,
      "outputs": []
    },
    {
      "cell_type": "code",
      "source": [
        "from IPython.display import Image, display\n",
        "\n",
        "try:\n",
        "    display(Image(graph.get_graph().draw_mermaid_png()))\n",
        "except:\n",
        "    # This requires some extra dependencies and is optional\n",
        "    pass"
      ],
      "metadata": {
        "colab": {
          "base_uri": "https://localhost:8080/",
          "height": 235
        },
        "id": "CFVLkED9bpyJ",
        "outputId": "4766eee2-0c22-4e53-e74c-85247b3531f2"
      },
      "execution_count": 48,
      "outputs": [
        {
          "output_type": "display_data",
          "data": {
            "image/jpeg": "[encoded data removed]",
            "text/plain": [
              "<IPython.core.display.Image object>"
            ]
          },
          "metadata": {}
        }
      ]
    },
    {
      "cell_type": "code",
      "source": [
        "while True:\n",
        "    user_input = input(\"User: \")\n",
        "    if user_input.lower() in [\"quit\", \"exit\", \"q\"]:\n",
        "        print(\"Goodbye!\")\n",
        "        break\n",
        "    event=graph.invoke({\"messages\": (\"user\", user_input)})\n",
        "    print(event)"
      ],
      "metadata": {
        "colab": {
          "base_uri": "https://localhost:8080/"
        },
        "id": "lPv7lXnPb5ea",
        "outputId": "3dfc8e19-e283-41ee-e4a9-f212e236f11d"
      },
      "execution_count": 52,
      "outputs": [
        {
          "output_type": "stream",
          "name": "stdout",
          "text": [
            "User: hi\n",
            "{'messages': [HumanMessage(content='hi', id='55d1ea62-2278-4ed7-854a-b2eee9404e34'), AIMessage(content='Hello! How can I assist you today?', response_metadata={'token_usage': {'completion_tokens': 9, 'prompt_tokens': 8, 'total_tokens': 17}, 'model_name': 'gpt-4-32k', 'system_fingerprint': None, 'prompt_filter_results': [{'prompt_index': 0, 'content_filter_results': {'hate': {'filtered': False, 'severity': 'safe'}, 'self_harm': {'filtered': False, 'severity': 'safe'}, 'sexual': {'filtered': False, 'severity': 'safe'}, 'violence': {'filtered': False, 'severity': 'safe'}}}], 'finish_reason': 'stop', 'logprobs': None, 'content_filter_results': {'hate': {'filtered': False, 'severity': 'safe'}, 'self_harm': {'filtered': False, 'severity': 'safe'}, 'sexual': {'filtered': False, 'severity': 'safe'}, 'violence': {'filtered': False, 'severity': 'safe'}}}, id='run-6956603b-d7de-4c48-aaa0-382c7b9cceeb-0')]}\n",
            "User: q\n",
            "Goodbye!\n"
          ]
        }
      ]
    },
    {
      "cell_type": "markdown",
      "source": [
        "Streaming"
      ],
      "metadata": {
        "id": "90cwIgw2eshk"
      }
    },
    {
      "cell_type": "code",
      "source": [
        "while True:\n",
        "    user_input = input(\"User: \")\n",
        "    if user_input.lower() in [\"quit\", \"exit\", \"q\"]:\n",
        "        print(\"Goodbye!\")\n",
        "        break\n",
        "    for event in graph.stream({\"messages\": (\"user\", user_input)}):\n",
        "        print(event)"
      ],
      "metadata": {
        "colab": {
          "base_uri": "https://localhost:8080/"
        },
        "id": "B51_QFBgecK2",
        "outputId": "938c9fa5-f13d-4b0b-e012-ea243ef3b177"
      },
      "execution_count": 53,
      "outputs": [
        {
          "output_type": "stream",
          "name": "stdout",
          "text": [
            "User: Hi\n",
            "{'chatbot': {'messages': [AIMessage(content='Hello! How can I assist you today?', response_metadata={'token_usage': {'completion_tokens': 9, 'prompt_tokens': 8, 'total_tokens': 17}, 'model_name': 'gpt-4-32k', 'system_fingerprint': None, 'prompt_filter_results': [{'prompt_index': 0, 'content_filter_results': {'hate': {'filtered': False, 'severity': 'safe'}, 'self_harm': {'filtered': False, 'severity': 'safe'}, 'sexual': {'filtered': False, 'severity': 'safe'}, 'violence': {'filtered': False, 'severity': 'safe'}}}], 'finish_reason': 'stop', 'logprobs': None, 'content_filter_results': {'hate': {'filtered': False, 'severity': 'safe'}, 'self_harm': {'filtered': False, 'severity': 'safe'}, 'sexual': {'filtered': False, 'severity': 'safe'}, 'violence': {'filtered': False, 'severity': 'safe'}}}, id='run-ab1179b1-94df-4af4-a524-b895a00fd204-0')]}}\n",
            "User: q\n",
            "Goodbye!\n"
          ]
        }
      ]
    },
    {
      "cell_type": "markdown",
      "source": [
        "## Part 2: Enhancing the Chatbot with Tools"
      ],
      "metadata": {
        "id": "OBtwS90Ig5pK"
      }
    },
    {
      "cell_type": "markdown",
      "source": [],
      "metadata": {
        "id": "RyYM4axPg84u"
      }
    },
    {
      "cell_type": "code",
      "source": [
        "from langchain_community.tools.tavily_search import TavilySearchResults\n",
        "\n",
        "tool = TavilySearchResults(max_results=2)\n",
        "tools = [tool]\n",
        "tool.invoke(\"What's a 'node' in LangGraph?\")"
      ],
      "metadata": {
        "colab": {
          "base_uri": "https://localhost:8080/"
        },
        "id": "QfkcD5qHg9JY",
        "outputId": "b853c565-783b-42b9-cfd4-54e515c6d5b5"
      },
      "execution_count": 57,
      "outputs": [
        {
          "output_type": "execute_result",
          "data": {
            "text/plain": [
              "[{'url': 'https://langchain-ai.github.io/langgraph/how-tos/async/',\n",
              "  'content': 'In langgraph, a node can be either a function or a runnable . There are two main nodes we need for this: The agent: responsible for deciding what (if any) actions to take. A function to invoke tools: if the agent decides to take an action, this node will then execute that action. We will also need to define some edges.'},\n",
              " {'url': 'https://python.langchain.com/docs/langgraph/',\n",
              "  'content': 'In langgraph, a node can be either a function or a runnable. There are two main nodes we need for this: The agent: responsible for deciding what (if any) actions to take. A function to invoke tools: if the agent decides to take an action, this node will then execute that action.'}]"
            ]
          },
          "metadata": {},
          "execution_count": 57
        }
      ]
    },
    {
      "cell_type": "code",
      "source": [
        "from typing import Annotated, Union\n",
        "\n",
        "from langchain_community.tools.tavily_search import TavilySearchResults\n",
        "from langchain_core.messages import BaseMessage\n",
        "from typing_extensions import TypedDict\n",
        "from langgraph.prebuilt import tools_condition\n",
        "from langgraph.graph import StateGraph\n",
        "from langgraph.graph.message import add_messages\n",
        "from langgraph.prebuilt import ToolNode\n",
        "\n",
        "\n",
        "class State(TypedDict):\n",
        "    messages: Annotated[list, add_messages]\n",
        "\n",
        "\n",
        "graph_builder = StateGraph(State)\n",
        "\n",
        "\n",
        "tool = TavilySearchResults(max_results=2)\n",
        "tools = [tool]\n",
        "llm = model\n",
        "llm_with_tools = llm.bind_tools(tools)\n",
        "\n",
        "\n",
        "def chatbot(state: State):\n",
        "    return {\"messages\": [llm_with_tools.invoke(state[\"messages\"])]}\n",
        "\n",
        "\n",
        "graph_builder.add_node(\"chatbot\", chatbot)\n",
        "\n",
        "tool_node = ToolNode(tools=[tool])\n",
        "graph_builder.add_node(\"action\", tool_node)\n",
        "\n"
      ],
      "metadata": {
        "id": "_L0NKtQFftgl"
      },
      "execution_count": 58,
      "outputs": []
    },
    {
      "cell_type": "markdown",
      "source": [
        "**`Conditional Edges`** \\\n",
        "Recall that edges route the control flow from one node to the next. Conditional edges usually contain \"if\" statements to route to different nodes depending on the current graph state. These functions receive the current graph state and return a string or list of strings indicating which node(s) to call next."
      ],
      "metadata": {
        "id": "YWPjwh9jhUiy"
      }
    },
    {
      "cell_type": "code",
      "source": [
        "tools_condition"
      ],
      "metadata": {
        "colab": {
          "base_uri": "https://localhost:8080/",
          "height": 203
        },
        "id": "mNO3e76mhxJA",
        "outputId": "31858db7-d261-4d3d-dc78-9da4767d2059"
      },
      "execution_count": 59,
      "outputs": [
        {
          "output_type": "execute_result",
          "data": {
            "text/plain": [
              "<function langgraph.prebuilt.tool_node.tools_condition(state: Union[list[Union[langchain_core.messages.ai.AIMessage, langchain_core.messages.human.HumanMessage, langchain_core.messages.chat.ChatMessage, langchain_core.messages.system.SystemMessage, langchain_core.messages.function.FunctionMessage, langchain_core.messages.tool.ToolMessage]], dict[str, Any]]) -> Literal['action', '__end__']>"
            ],
            "text/html": [
              "<div style=\"max-width:800px; border: 1px solid var(--colab-border-color);\"><style>\n",
              "      pre.function-repr-contents {\n",
              "        overflow-x: auto;\n",
              "        padding: 8px 12px;\n",
              "        max-height: 500px;\n",
              "      }\n",
              "\n",
              "      pre.function-repr-contents.function-repr-contents-collapsed {\n",
              "        cursor: pointer;\n",
              "        max-height: 100px;\n",
              "      }\n",
              "    </style>\n",
              "    <pre style=\"white-space: initial; background:\n",
              "         var(--colab-secondary-surface-color); padding: 8px 12px;\n",
              "         border-bottom: 1px solid var(--colab-border-color);\"><b>langgraph.prebuilt.tool_node.tools_condition</b><br/>def tools_condition(state: Union[list[AnyMessage], dict[str, Any]]) -&gt; Literal[&#x27;action&#x27;, &#x27;__end__&#x27;]</pre><pre class=\"function-repr-contents function-repr-contents-collapsed\" style=\"\"><a class=\"filepath\" style=\"display:none\" href=\"#\">/usr/local/lib/python3.10/dist-packages/langgraph/prebuilt/tool_node.py</a>Use in the conditional_edge to route to the ToolNode if the last message\n",
              "\n",
              "has tool calls. Otherwise, route to the end.\n",
              "\n",
              "Args:\n",
              "    state (Union[list[AnyMessage], dict[str, Any]]): The state to check for\n",
              "        tool calls. Must have a list of messages (MessageGraph) or have the\n",
              "        &quot;messages&quot; key (StateGraph).\n",
              "\n",
              "Returns:\n",
              "    Literal[&quot;tools&quot;, &quot;__end__&quot;]: The next node to route to.\n",
              "\n",
              "\n",
              "Examples:\n",
              "  .. code-block:: python\n",
              "\n",
              "        from langchain_anthropic import ChatAnthropic\n",
              "        from langchain_core.tools import tool\n",
              "\n",
              "        from langgraph.graph import MessageGraph\n",
              "        from langgraph.prebuilt import ToolNode, tools_condition\n",
              "\n",
              "\n",
              "        @tool\n",
              "        def divide(a: float, b: float) -&gt; int:\n",
              "            &quot;&quot;&quot;Return a / b.&quot;&quot;&quot;\n",
              "            return a / b\n",
              "\n",
              "\n",
              "        llm = ChatAnthropic(model=&quot;claude-3-haiku-20240307&quot;)\n",
              "        tools = [divide]\n",
              "\n",
              "        graph_builder = MessageGraph()\n",
              "        graph_builder.add_node(&quot;tools&quot;, ToolNode(tools))\n",
              "        graph_builder.add_node(&quot;chatbot&quot;, llm.bind_tools(tools))\n",
              "        graph_builder.add_edge(&quot;tools&quot;, &quot;chatbot&quot;)\n",
              "        graph_builder.add_conditional_edges(\n",
              "            &quot;chatbot&quot;,\n",
              "            tools_condition,\n",
              "            {\n",
              "                # If it returns &#x27;action&#x27;, route to the &#x27;tools&#x27; node\n",
              "                &quot;action&quot;: &quot;tools&quot;,\n",
              "                # If it returns &#x27;__end__&#x27;, route to the end\n",
              "                &quot;__end__&quot;: &quot;__end__&quot;,\n",
              "            },\n",
              "        )\n",
              "        graph_builder.set_entry_point(&quot;chatbot&quot;)\n",
              "        graph = graph_builder.compile()\n",
              "        graph.invoke([(&quot;user&quot;, &quot;What&#x27;s 329993 divided by 13662?&quot;)])</pre>\n",
              "      <script>\n",
              "      if (google.colab.kernel.accessAllowed && google.colab.files && google.colab.files.view) {\n",
              "        for (const element of document.querySelectorAll('.filepath')) {\n",
              "          element.style.display = 'block'\n",
              "          element.onclick = (event) => {\n",
              "            event.preventDefault();\n",
              "            event.stopPropagation();\n",
              "            google.colab.files.view(element.textContent, 99);\n",
              "          };\n",
              "        }\n",
              "      }\n",
              "      for (const element of document.querySelectorAll('.function-repr-contents')) {\n",
              "        element.onclick = (event) => {\n",
              "          event.preventDefault();\n",
              "          event.stopPropagation();\n",
              "          element.classList.toggle('function-repr-contents-collapsed');\n",
              "        };\n",
              "      }\n",
              "      </script>\n",
              "      </div>"
            ]
          },
          "metadata": {},
          "execution_count": 59
        }
      ]
    },
    {
      "cell_type": "markdown",
      "source": [
        "**`Conditional Edges`** \\\n",
        "These functions receive the current graph state and return a string or list of strings indicating which node(s) to call next."
      ],
      "metadata": {
        "id": "Xim9riVYj4U6"
      }
    },
    {
      "cell_type": "code",
      "source": [
        "graph_builder.add_conditional_edges(\n",
        "    \"chatbot\",\n",
        "    tools_condition,\n",
        "    {\"action\": \"action\", \"__end__\": \"__end__\"},\n",
        ")\n",
        "# Any time a tool is called, we return to the chatbot to decide the next step\n",
        "graph_builder.add_edge(\"action\", \"chatbot\")\n",
        "graph_builder.set_entry_point(\"chatbot\")\n",
        "graph = graph_builder.compile()"
      ],
      "metadata": {
        "id": "AzS7OHU9hvUh"
      },
      "execution_count": 61,
      "outputs": []
    },
    {
      "cell_type": "markdown",
      "source": [
        "The prebuilt tools_condition returns the \"__end__\" string if no tool calls are made. When the graph transitions to __end__, it has no more tasks to complete and ceases execution. Because the condition can return __end__, we don't need to explicitly set a finish_point this time. Our graph already has a way to finish!"
      ],
      "metadata": {
        "id": "NlHchP61iaxb"
      }
    },
    {
      "cell_type": "code",
      "source": [
        "try:\n",
        "    display(Image(graph.get_graph().draw_mermaid_png()))\n",
        "except:\n",
        "    # This requires some extra dependencies and is optional\n",
        "    pass"
      ],
      "metadata": {
        "colab": {
          "base_uri": "https://localhost:8080/",
          "height": 338
        },
        "id": "D7zYU5muiXNv",
        "outputId": "d1403a72-278b-4873-c768-271ae1ae7b2b"
      },
      "execution_count": 62,
      "outputs": [
        {
          "output_type": "display_data",
          "data": {
            "image/jpeg": "[encoded data removed]",
            "text/plain": [
              "<IPython.core.display.Image object>"
            ]
          },
          "metadata": {}
        }
      ]
    },
    {
      "cell_type": "code",
      "source": [
        "from langchain_core.messages import BaseMessage\n",
        "\n",
        "while True:\n",
        "    user_input = input(\"User: \")\n",
        "    if user_input.lower() in [\"quit\", \"exit\", \"q\"]:\n",
        "        print(\"Goodbye!\")\n",
        "        break\n",
        "    for event in graph.stream({\"messages\": [(\"user\", user_input)]}):\n",
        "        for value in event.values():\n",
        "            if isinstance(value[\"messages\"][-1], BaseMessage):\n",
        "                print(\"Assistant:\", value[\"messages\"][-1].content)"
      ],
      "metadata": {
        "colab": {
          "base_uri": "https://localhost:8080/"
        },
        "id": "YcIdRkXyi7CV",
        "outputId": "b3da6b2b-7c9d-4bbc-b2ae-ede174dcd681"
      },
      "execution_count": 63,
      "outputs": [
        {
          "output_type": "stream",
          "name": "stdout",
          "text": [
            "User: hi\n",
            "Assistant: Hello! How can I assist you today?\n",
            "User: q\n",
            "Goodbye!\n"
          ]
        }
      ]
    }
  ]
}